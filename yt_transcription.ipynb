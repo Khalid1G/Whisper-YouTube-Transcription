{
 "cells": [
  {
   "cell_type": "code",
   "execution_count": 14,
   "metadata": {},
   "outputs": [],
   "source": [
    "import os\n",
    "import tempfile\n",
    "import time\n",
    "import re\n",
    "import librosa\n",
    "from yt_dlp import YoutubeDL\n",
    "import whisper"
   ]
  },
  {
   "cell_type": "code",
   "execution_count": 5,
   "metadata": {},
   "outputs": [],
   "source": [
    "whisper_model = whisper.load_model(\"base\")"
   ]
  },
  {
   "cell_type": "code",
   "execution_count": null,
   "metadata": {},
   "outputs": [
    {
     "name": "stdout",
     "output_type": "stream",
     "text": [
      "[youtube] Extracting URL: https://www.youtube.com/watch?v=Ata9cSC2WpM\n",
      "[youtube] Ata9cSC2WpM: Downloading webpage\n",
      "[youtube] Ata9cSC2WpM: Downloading ios player API JSON\n",
      "[youtube] Ata9cSC2WpM: Downloading mweb player API JSON\n",
      "[youtube] Ata9cSC2WpM: Downloading m3u8 information\n",
      "[info] Ata9cSC2WpM: Downloading 1 format(s): 251\n",
      "[download] Destination: /tmp/tmpu2zwlyvv/audio.webm\n",
      "[download] 100% of    2.14MiB in 00:00:03 at 581.03KiB/s \n",
      "[ExtractAudio] Destination: /tmp/tmpu2zwlyvv/audio.mp3\n",
      "Deleting original file /tmp/tmpu2zwlyvv/audio.webm (pass -k to keep)\n",
      "Video length: 119.698875 seconds\n",
      "Transcription time: 12.874936819076538\n",
      "\n",
      "\n",
      " ---------------------------------------------------------------------------------------------------- \n",
      "\n",
      "Your transcript is here: transcription.txt\n"
     ]
    }
   ],
   "source": [
    "# Define the YouTube video URL\n",
    "YT_ID = input(\"set your youtube video ID: \")\n",
    "YOUTUBE_VIDEO = f\"https://www.youtube.com/watch?v={YT_ID}\"\n",
    "# Check if the transcription already exists\n",
    "if not os.path.exists(f\"Youtube/{YT_ID}_transcription.txt\"):\n",
    "    # Download the audio using yt-dlp\n",
    "    with tempfile.TemporaryDirectory() as tmpdir:\n",
    "        audio_file_path = os.path.join(tmpdir, \"audio.mp3\")\n",
    "        ydl_opts = {\n",
    "            \"format\": \"bestaudio/best\",\n",
    "            \"outtmpl\": os.path.join(tmpdir, \"audio.%(ext)s\"),\n",
    "            \"postprocessors\": [\n",
    "                {\n",
    "                    \"key\": \"FFmpegExtractAudio\",\n",
    "                    \"preferredcodec\": \"mp3\",\n",
    "                    \"preferredquality\": \"192\",\n",
    "                }\n",
    "            ],\n",
    "        }\n",
    "\n",
    "        with YoutubeDL(ydl_opts) as ydl:\n",
    "            ydl.download([YOUTUBE_VIDEO])\n",
    "\n",
    "        # Fix the filename based on how yt-dlp processes it\n",
    "        if not os.path.exists(audio_file_path):\n",
    "            audio_file_path = audio_file_path + \".mp3\"\n",
    "            if not os.path.exists(audio_file_path):\n",
    "                raise FileNotFoundError(f\"Audio file not found at {audio_file_path}\")\n",
    "\n",
    "        # Get the duration of the audio file\n",
    "        duration = librosa.get_duration(path=audio_file_path)\n",
    "        print(\"Video length:\", duration, \"seconds\")\n",
    "\n",
    "        # Transcribe the audio\n",
    "        start = time.time()\n",
    "        result = whisper_model.transcribe(audio_file_path, fp16=False)\n",
    "        end = time.time()\n",
    "        seconds = end - start\n",
    "        print(\"Transcription time:\", seconds)\n",
    "\n",
    "        # Format the transcription\n",
    "        sentences = re.split(\"([!?.])\", result[\"text\"])\n",
    "        sentences = [\"\".join(i) for i in zip(sentences[0::2], sentences[1::2])]\n",
    "        text = \"\\n\".join(sentences)\n",
    "\n",
    "        # Save the transcription to a file\n",
    "        with open(f\"Youtube/{YT_ID}_transcription.txt\", \"w\") as file:\n",
    "            file.write(text)\n",
    "\n",
    "        print(\"\\n\\n\", \"-\" * 100, \"\\n\\nYour transcript is here: transcription.txt\")"
   ]
  }
 ],
 "metadata": {
  "kernelspec": {
   "display_name": ".venv",
   "language": "python",
   "name": "python3"
  },
  "language_info": {
   "codemirror_mode": {
    "name": "ipython",
    "version": 3
   },
   "file_extension": ".py",
   "mimetype": "text/x-python",
   "name": "python",
   "nbconvert_exporter": "python",
   "pygments_lexer": "ipython3",
   "version": "3.10.12"
  }
 },
 "nbformat": 4,
 "nbformat_minor": 2
}
